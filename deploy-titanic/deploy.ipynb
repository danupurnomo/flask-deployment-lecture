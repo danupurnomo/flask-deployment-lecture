{
 "cells": [
  {
   "cell_type": "code",
   "execution_count": 10,
   "metadata": {},
   "outputs": [
    {
     "data": {
      "text/plain": [
       "{'label_names': ' Survived', 'result': '[[1]]'}"
      ]
     },
     "execution_count": 10,
     "metadata": {},
     "output_type": "execute_result"
    }
   ],
   "source": [
    "import requests\n",
    "\n",
    "URL = 'https://backend-titanic-danu.koyeb.app/predict'\n",
    "new_data = {\n",
    "    'PassengerId': 120,\n",
    "    'Pclass': 0,\n",
    "    'Name': 'Sherlock Holmes',\n",
    "    'Sex': 'male',\n",
    "    'Age': 30,\n",
    "    'SibSp': 0,\n",
    "    'Parch': 0,\n",
    "    'Ticket': 'C.A.1121',\n",
    "    'Fare': 10,\n",
    "    'Cabin': 'F1',\n",
    "    'Embarked': 'C'\n",
    "}\n",
    "\n",
    "response = requests.post(URL, json=new_data)\n",
    "response_json = response.json()\n",
    "response_json"
   ]
  }
 ],
 "metadata": {
  "kernelspec": {
   "display_name": "Python 3.9.13 ('base')",
   "language": "python",
   "name": "python3"
  },
  "language_info": {
   "codemirror_mode": {
    "name": "ipython",
    "version": 3
   },
   "file_extension": ".py",
   "mimetype": "text/x-python",
   "name": "python",
   "nbconvert_exporter": "python",
   "pygments_lexer": "ipython3",
   "version": "3.9.13"
  },
  "orig_nbformat": 4,
  "vscode": {
   "interpreter": {
    "hash": "ae37f0b9d3d445e29318fd4f1352864aef4f7fcec33da1146725d8a2b9daa9b7"
   }
  }
 },
 "nbformat": 4,
 "nbformat_minor": 2
}
